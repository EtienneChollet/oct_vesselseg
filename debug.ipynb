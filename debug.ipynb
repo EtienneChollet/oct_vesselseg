{
 "cells": [
  {
   "cell_type": "code",
   "execution_count": 1,
   "metadata": {},
   "outputs": [],
   "source": [
    "from synthspline.random import Uniform, LogNormal, RandInt, Sampler\n",
    "from synthspline.labelsynth import SynthSplineBlock, SynthSplineParameters\n",
    "from synthspline.labelzoo import SynthVesselOCT"
   ]
  },
  {
   "cell_type": "code",
   "execution_count": 13,
   "metadata": {},
   "outputs": [],
   "source": [
    "params = {\n",
    "    'shape': (128, 128, 128),\n",
    "    'voxel_size': 0.02,\n",
    "    'nb_levels': RandInt(1, 5),\n",
    "    'tree_density': Uniform(0.1, 0.2),\n",
    "    'tortuosity': Uniform(1, 5),\n",
    "    'radius': LogNormal(0.1, 0.02),\n",
    "    'radius_change': LogNormal(1, 0.2),\n",
    "    'nb_children': RandInt(1, 6),\n",
    "    'radius_ratio': LogNormal(0.5, 0.2),\n",
    "    'device': 'cpu'\n",
    "}\n",
    "\n",
    "synth_block = SynthVesselOCT(**params)#()"
   ]
  },
  {
   "cell_type": "code",
   "execution_count": 38,
   "metadata": {},
   "outputs": [
    {
     "data": {
      "text/plain": [
       "{'shape': (128, 128, 128),\n",
       " 'voxel_size': 0.02,\n",
       " 'nb_levels': {'RandInt': {'a': 1, 'b': 5}},\n",
       " 'tree_density': {'Uniform': {'a': 0.10000000149011612,\n",
       "   'b': 0.20000000298023224}},\n",
       " 'tortuosity': {'Uniform': {'a': 1.0, 'b': 5.0}},\n",
       " 'radius': {'LogNormal': {'mu': 0.10000000149011612,\n",
       "   'sigma': 0.019999999552965164}},\n",
       " 'radius_change': {'LogNormal': {'mu': 1.0, 'sigma': 0.20000000298023224}},\n",
       " 'nb_children': {'RandInt': {'a': 1, 'b': 6}},\n",
       " 'radius_ratio': {'LogNormal': {'mu': 0.5, 'sigma': 0.20000000298023224}},\n",
       " 'device': 'cpu'}"
      ]
     },
     "execution_count": 38,
     "metadata": {},
     "output_type": "execute_result"
    }
   ],
   "source": [
    "synth_block.__dict__['params'].serialize()"
   ]
  },
  {
   "cell_type": "code",
   "execution_count": 32,
   "metadata": {},
   "outputs": [
    {
     "name": "stdout",
     "output_type": "stream",
     "text": [
      "{'shape': (128, 128, 128), 'voxel_size': 0.02, 'nb_levels': {'RandInt': {'a': 1, 'b': 5}}, 'tree_density': {'Uniform': {'a': 0.10000000149011612, 'b': 0.20000000298023224}}, 'tortuosity': {'Uniform': {'a': 1.0, 'b': 5.0}}, 'radius': {'LogNormal': {'mu': 0.10000000149011612, 'sigma': 0.019999999552965164}}, 'radius_change': {'LogNormal': {'mu': 1.0, 'sigma': 0.20000000298023224}}, 'nb_children': {'RandInt': {'a': 1, 'b': 6}}, 'radius_ratio': {'LogNormal': {'mu': 0.5, 'sigma': 0.20000000298023224}}, 'device': 'cpu'}\n",
      "{'RandInt': {'a': 1, 'b': 5}}\n",
      "{'Uniform': {'a': 0.10000000149011612, 'b': 0.20000000298023224}}\n",
      "{'Uniform': {'a': 1.0, 'b': 5.0}}\n",
      "{'LogNormal': {'mu': 0.10000000149011612, 'sigma': 0.019999999552965164}}\n",
      "{'LogNormal': {'mu': 1.0, 'sigma': 0.20000000298023224}}\n",
      "{'RandInt': {'a': 1, 'b': 6}}\n",
      "{'LogNormal': {'mu': 0.5, 'sigma': 0.20000000298023224}}\n"
     ]
    }
   ],
   "source": [
    "for x, y in synth_block.__dict__.items():\n",
    "    try:\n",
    "        print(synth_block.__dict__[x].serialize())\n",
    "    except:\n",
    "        pass"
   ]
  },
  {
   "cell_type": "code",
   "execution_count": 106,
   "metadata": {},
   "outputs": [
    {
     "name": "stdout",
     "output_type": "stream",
     "text": [
      "{'RandInt': {'a': 1, 'b': 5}}\n",
      "{'Uniform': {'a': 0.10000000149011612, 'b': 0.20000000298023224}}\n",
      "{'Uniform': {'a': 1.0, 'b': 5.0}}\n",
      "{'LogNormal': {'mu': 0.10000000149011612, 'sigma': 0.019999999552965164}}\n",
      "{'LogNormal': {'mu': 1.0, 'sigma': 0.20000000298023224}}\n",
      "{'RandInt': {'a': 1, 'b': 6}}\n",
      "{'LogNormal': {'mu': 0.5, 'sigma': 0.20000000298023224}}\n"
     ]
    }
   ],
   "source": [
    "for key, val in params.items():\n",
    "    if isinstance(val, Sampler):\n",
    "        params[key] = val.serialize()\n",
    "    else:\n",
    "        pass"
   ]
  },
  {
   "cell_type": "code",
   "execution_count": null,
   "metadata": {},
   "outputs": [],
   "source": []
  },
  {
   "cell_type": "code",
   "execution_count": null,
   "metadata": {},
   "outputs": [],
   "source": []
  }
 ],
 "metadata": {
  "kernelspec": {
   "display_name": "oct_vesselseg",
   "language": "python",
   "name": "python3"
  },
  "language_info": {
   "codemirror_mode": {
    "name": "ipython",
    "version": 3
   },
   "file_extension": ".py",
   "mimetype": "text/x-python",
   "name": "python",
   "nbconvert_exporter": "python",
   "pygments_lexer": "ipython3",
   "version": "3.9.19"
  }
 },
 "nbformat": 4,
 "nbformat_minor": 2
}
